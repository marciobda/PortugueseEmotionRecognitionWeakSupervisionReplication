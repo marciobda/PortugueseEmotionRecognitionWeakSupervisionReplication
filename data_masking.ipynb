{
 "cells": [
  {
   "cell_type": "code",
   "execution_count": 8,
   "metadata": {},
   "outputs": [],
   "source": [
    "import pandas as pd\n",
    "import random\n",
    "\n",
    "# Load the data\n",
    "train_df = pd.read_csv('./train.csv', sep='\\t', quoting=3)\n",
    "lexical_items_df = pd.read_csv('./lexical_items.csv', sep='\\t', quoting=3, usecols=[0], names=['lexical_item'])\n",
    "\n",
    "# Convert lexical items to a set for faster lookup\n",
    "lexical_items = set(lexical_items_df['lexical_item'])\n",
    "\n",
    "# Function to replace words with [MASK]\n",
    "def replace_words(text, lexical_items, mask_all=True, mask_prob=0.3):\n",
    "    if isinstance(text, str):\n",
    "        words = text.split()\n",
    "        for i, word in enumerate(words):\n",
    "            if word in lexical_items:\n",
    "                if mask_all or random.random() < mask_prob:\n",
    "                    words[i] = '[MASK]'\n",
    "        return ' '.join(words)\n",
    "\n",
    "# Apply the function to the entire dataframe\n",
    "train_df_all_masked = train_df.copy()\n",
    "train_df_all_masked['tweet'] = train_df_all_masked['tweet'].apply(replace_words, lexical_items=lexical_items, mask_all=True)\n",
    "\n",
    "train_df_partial_masked = train_df.copy()\n",
    "train_df_partial_masked['tweet'] = train_df_partial_masked['tweet'].apply(replace_words, lexical_items=lexical_items, mask_all=False, mask_prob=0.3)\n",
    "\n",
    "# Save the new dataframes to CSV files\n",
    "train_df_all_masked.to_csv('./train_full_mask.csv', index=False, sep='\\t', quoting=3)\n",
    "train_df_partial_masked.to_csv('./train_30_mask.csv', index=False, sep='\\t', quoting=3)"
   ]
  }
 ],
 "metadata": {
  "kernelspec": {
   "display_name": "base",
   "language": "python",
   "name": "python3"
  },
  "language_info": {
   "codemirror_mode": {
    "name": "ipython",
    "version": 3
   },
   "file_extension": ".py",
   "mimetype": "text/x-python",
   "name": "python",
   "nbconvert_exporter": "python",
   "pygments_lexer": "ipython3",
   "version": "3.12.3"
  }
 },
 "nbformat": 4,
 "nbformat_minor": 2
}
